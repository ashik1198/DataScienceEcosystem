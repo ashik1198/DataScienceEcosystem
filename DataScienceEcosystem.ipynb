{
 "cells": [
  {
   "cell_type": "markdown",
   "id": "2793afbf",
   "metadata": {},
   "source": [
    "# Data Science Tools and Ecosystem\n"
   ]
  },
  {
   "cell_type": "markdown",
   "id": "5034ab7d",
   "metadata": {},
   "source": [
    "In this notebook, Data Science Tools and Ecosystem are summarized. Data Science Tools and Ecosystem refer to a set of technologies, programming languages, frameworks, and libraries that are commonly used in the field of Data Science. These tools help Data Scientists to collect, process, analyze, and visualize large volumes of complex data, allowing them to extract valuable insights and make informed decisions. The Data Science ecosystem is constantly evolving, with new tools and techniques being developed regularly to address emerging challenges and opportunities in the field.\n"
   ]
  },
  {
   "cell_type": "markdown",
   "id": "22eaca84",
   "metadata": {},
   "source": [
    "Some of the popular languages that Data Scientists use are:\n",
    "1. Python\n",
    "2. R\n",
    "3. SQL\n"
   ]
  },
  {
   "cell_type": "markdown",
   "id": "dc5ab7be",
   "metadata": {},
   "source": [
    "Some of the commonly used libraries used by Data Scientists include:\n",
    "1. NumPy\n",
    "2. Pandas\n",
    "3. Matplotlib\n"
   ]
  },
  {
   "cell_type": "markdown",
   "id": "34865b60",
   "metadata": {},
   "source": [
    "| Data Science Tools |\n",
    "| --- |\n",
    "| Jupyter Notebook |\n",
    "| RStudio |\n",
    "| Spyder |\n"
   ]
  },
  {
   "cell_type": "markdown",
   "id": "5006db54",
   "metadata": {},
   "source": [
    "### Below are a few examples of evaluating arithmetic expressions in Python\n",
    "\n",
    "Arithmetic expressions are used in Python to perform mathematical calculations. Here are a few examples of how to evaluate arithmetic expressions in Python:\n",
    "\n",
    "- Addition: 2 + 3\n",
    "- Subtraction: 5 - 2\n",
    "- Multiplication: 3 * 4\n",
    "- Division: 10 / 2\n",
    "- Modulo: 10 % 3\n",
    "\n"
   ]
  },
  {
   "cell_type": "code",
   "execution_count": 3,
   "id": "5a08c09a",
   "metadata": {},
   "outputs": [
    {
     "data": {
      "text/plain": [
       "17"
      ]
     },
     "execution_count": 3,
     "metadata": {},
     "output_type": "execute_result"
    }
   ],
   "source": [
    "# This is a simple arithmetic expression to multiply then add integers\n",
    "(3*4)+5\n"
   ]
  },
  {
   "cell_type": "code",
   "execution_count": 4,
   "id": "c79ebe53",
   "metadata": {},
   "outputs": [
    {
     "data": {
      "text/plain": [
       "3.3333333333333335"
      ]
     },
     "execution_count": 4,
     "metadata": {},
     "output_type": "execute_result"
    }
   ],
   "source": [
    "# This will convert 200 minutes to hours by diving by 60\n",
    "200/60\n"
   ]
  },
  {
   "cell_type": "markdown",
   "id": "4d82d979",
   "metadata": {},
   "source": [
    "In this notebook, Data Science Tools and Ecosystem are summarized. Data Science Tools and Ecosystem refer to a set of technologies, programming languages, frameworks, and libraries that are commonly used in the field of Data Science. These tools help Data Scientists to collect, process, analyze, and visualize large volumes of complex data, allowing them to extract valuable insights and make informed decisions. The Data Science ecosystem is constantly evolving, with new tools and techniques being developed regularly to address emerging challenges and opportunities in the field.\n",
    "\n",
    "Objectives:\n",
    "* List popular languages for Data Science\n",
    "* Discuss commonly used libraries in Data Science\n",
    "* Introduce key Data Science Tools and Ecosystem\n",
    "* Evaluate arithmetic expressions in Python\n",
    "* Convert units of time in Python"
   ]
  },
  {
   "cell_type": "markdown",
   "id": "77855274",
   "metadata": {},
   "source": [
    "## Author\n",
    "Ashik Nawaz\n"
   ]
  },
  {
   "cell_type": "code",
   "execution_count": null,
   "id": "ea0c625e",
   "metadata": {},
   "outputs": [],
   "source": []
  }
 ],
 "metadata": {
  "kernelspec": {
   "display_name": "Python 3 (ipykernel)",
   "language": "python",
   "name": "python3"
  },
  "language_info": {
   "codemirror_mode": {
    "name": "ipython",
    "version": 3
   },
   "file_extension": ".py",
   "mimetype": "text/x-python",
   "name": "python",
   "nbconvert_exporter": "python",
   "pygments_lexer": "ipython3",
   "version": "3.10.9"
  }
 },
 "nbformat": 4,
 "nbformat_minor": 5
}
